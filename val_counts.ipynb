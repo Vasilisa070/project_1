{
  "nbformat": 4,
  "nbformat_minor": 0,
  "metadata": {
    "colab": {
      "provenance": [],
      "authorship_tag": "ABX9TyOQzIaKMfEEeGoRh/JXKLhw",
      "include_colab_link": true
    },
    "kernelspec": {
      "name": "python3",
      "display_name": "Python 3"
    },
    "language_info": {
      "name": "python"
    }
  },
  "cells": [
    {
      "cell_type": "markdown",
      "metadata": {
        "id": "view-in-github",
        "colab_type": "text"
      },
      "source": [
        "<a href=\"https://colab.research.google.com/github/Vasilisa070/project_1/blob/main/val_counts.ipynb\" target=\"_parent\"><img src=\"https://colab.research.google.com/assets/colab-badge.svg\" alt=\"Open In Colab\"/></a>"
      ]
    },
    {
      "cell_type": "code",
      "execution_count": null,
      "metadata": {
        "id": "d99sYAJ-6FOR"
      },
      "outputs": [],
      "source": [
        "import pandas as pd\n",
        "def val_counts(data, clmn):\n",
        "    un = data[clmn].value_counts(normalize=True)\n",
        "    return un"
      ]
    }
  ]
}