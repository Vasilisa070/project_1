{
  "nbformat": 4,
  "nbformat_minor": 0,
  "metadata": {
    "colab": {
      "provenance": [],
      "authorship_tag": "ABX9TyNgcw7VtpXB6v6UjFjbGhh9",
      "include_colab_link": true
    },
    "kernelspec": {
      "name": "python3",
      "display_name": "Python 3"
    },
    "language_info": {
      "name": "python"
    }
  },
  "cells": [
    {
      "cell_type": "markdown",
      "metadata": {
        "id": "view-in-github",
        "colab_type": "text"
      },
      "source": [
        "<a href=\"https://colab.research.google.com/github/Vasilisa070/project_1/blob/main/File_last.ipynb\" target=\"_parent\"><img src=\"https://colab.research.google.com/assets/colab-badge.svg\" alt=\"Open In Colab\"/></a>"
      ]
    },
    {
      "cell_type": "code",
      "execution_count": null,
      "metadata": {
        "id": "w2vXiiwp5Xud"
      },
      "outputs": [],
      "source": [
        "def read_file_last(data, n):\n",
        "    file = open(data, \"r+\")\n",
        "    str_list = file.readlines()\n",
        "    new_list = [i.replace(\"\\n\", \"\") for i in str_list]\n",
        "    file.close()\n",
        "    return new_list[-n:]\n",
        ""
      ]
    }
  ]
}