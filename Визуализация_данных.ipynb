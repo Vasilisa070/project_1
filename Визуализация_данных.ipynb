{
  "nbformat": 4,
  "nbformat_minor": 0,
  "metadata": {
    "colab": {
      "provenance": [],
      "authorship_tag": "ABX9TyOS72QRaOh0nOH7EjljuGbq"
    },
    "kernelspec": {
      "name": "python3",
      "display_name": "Python 3"
    },
    "language_info": {
      "name": "python"
    }
  },
  "cells": [
    {
      "cell_type": "code",
      "execution_count": null,
      "metadata": {
        "id": "92U8d275RNFY"
      },
      "outputs": [],
      "source": [
        "import matplotlib.pyplot as plt\n",
        "#def data_plot(x, y):\n",
        "x = [1, 2, 3, 4, 5]\n",
        "y = [2, 4, 6, 8, 10]\n",
        "fig, ax = plt.subplots()\n",
        "ax.plot(x, y)\n",
        "ax.set_xlabel('Ось X')\n",
        "ax.set_ylabel('Ось Y')\n",
        "ax.set_title('Линейный график')\n",
        "plt.show\n",
        "#return ax\n"
      ]
    },
    {
      "cell_type": "code",
      "source": [
        "import matplotlib.pyplot as plt\n",
        "x = [1, 2, 3, 4, 5]\n",
        "y1 = [2, 4, 6, 8, 10]\n",
        "y2 = [4, 16, 36, 64, 100]\n",
        "plt.subplot(1, 2, 1)\n",
        "plot1, = plt.plot(x, y1, '-g')\n",
        "plt.subplot(1, 2, 2)\n",
        "plot2, = plt.plot(x, y2, '-.r')\n",
        "plt.show"
      ],
      "metadata": {
        "id": "6I3viHt-7QMP"
      },
      "execution_count": null,
      "outputs": []
    },
    {
      "cell_type": "code",
      "source": [
        "import matplotlib.pyplot as plt\n",
        "import numpy as np\n",
        "y1 = [1, 2, 3, 4, 5]\n",
        "y2 = [8, 7, 6, 2, 1]\n",
        "fig, ax = plt.subplots()\n",
        "ax.plot(y1, label = 'Dataset 1')\n",
        "ax.plot(y2, label = 'Dataset 2')\n",
        "\n",
        "ax.set_title('Сравнение двух датасетов')\n",
        "ax.set_xlabel('Индекс')\n",
        "ax.set_ylabel('Значения')\n",
        "ax.legend()\n",
        "\n",
        "plt.show()"
      ],
      "metadata": {
        "id": "HPHY_iV5_RNy"
      },
      "execution_count": null,
      "outputs": []
    }
  ]
}